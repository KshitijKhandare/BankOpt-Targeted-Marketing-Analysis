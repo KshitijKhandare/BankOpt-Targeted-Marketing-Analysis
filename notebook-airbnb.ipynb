{
 "cells": [
  {
   "cell_type": "code",
   "execution_count": 1,
   "id": "08a00ead",
   "metadata": {
    "_cell_guid": "b1076dfc-b9ad-4769-8c92-a6c4dae69d19",
    "_uuid": "8f2839f25d086af736a60e9eeb907d3b93b6e0e5",
    "execution": {
     "iopub.execute_input": "2023-12-19T11:46:50.629602Z",
     "iopub.status.busy": "2023-12-19T11:46:50.628834Z",
     "iopub.status.idle": "2023-12-19T11:46:51.054760Z",
     "shell.execute_reply": "2023-12-19T11:46:51.053521Z"
    },
    "papermill": {
     "duration": 0.439074,
     "end_time": "2023-12-19T11:46:51.058023",
     "exception": false,
     "start_time": "2023-12-19T11:46:50.618949",
     "status": "completed"
    },
    "tags": []
   },
   "outputs": [
    {
     "name": "stdout",
     "output_type": "stream",
     "text": [
      "/kaggle/input/airbnb-listings-reviews/Airbnb Data/Listings.csv\n",
      "/kaggle/input/airbnb-listings-reviews/Airbnb Data/Reviews.csv\n",
      "/kaggle/input/airbnb-listings-reviews/Airbnb Data/Reviews_data_dictionary.csv\n",
      "/kaggle/input/airbnb-listings-reviews/Airbnb Data/Listings_data_dictionary.csv\n"
     ]
    }
   ],
   "source": [
    "# This Python 3 environment comes with many helpful analytics libraries installed\n",
    "# It is defined by the kaggle/python Docker image: https://github.com/kaggle/docker-python\n",
    "# For example, here's several helpful packages to load\n",
    "\n",
    "import numpy as np # linear algebra\n",
    "import pandas as pd # data processing, CSV file I/O (e.g. pd.read_csv)\n",
    "\n",
    "# Input data files are available in the read-only \"../input/\" directory\n",
    "# For example, running this (by clicking run or pressing Shift+Enter) will list all files under the input directory\n",
    "\n",
    "import os\n",
    "for dirname, _, filenames in os.walk('/kaggle/input'):\n",
    "    for filename in filenames:\n",
    "        print(os.path.join(dirname, filename))\n",
    "\n",
    "# You can write up to 20GB to the current directory (/kaggle/working/) that gets preserved as output when you create a version using \"Save & Run All\" \n",
    "# You can also write temporary files to /kaggle/temp/, but they won't be saved outside of the current session"
   ]
  },
  {
   "cell_type": "code",
   "execution_count": 2,
   "id": "540ab240",
   "metadata": {
    "execution": {
     "iopub.execute_input": "2023-12-19T11:46:51.074642Z",
     "iopub.status.busy": "2023-12-19T11:46:51.073632Z",
     "iopub.status.idle": "2023-12-19T11:46:51.079503Z",
     "shell.execute_reply": "2023-12-19T11:46:51.077517Z"
    },
    "papermill": {
     "duration": 0.016478,
     "end_time": "2023-12-19T11:46:51.082144",
     "exception": false,
     "start_time": "2023-12-19T11:46:51.065666",
     "status": "completed"
    },
    "tags": []
   },
   "outputs": [],
   "source": [
    "import pandas as pd\n",
    "import numpy as np\n",
    "import matplotlib.pyplot as plt"
   ]
  },
  {
   "cell_type": "code",
   "execution_count": 3,
   "id": "8677cbcf",
   "metadata": {
    "execution": {
     "iopub.execute_input": "2023-12-19T11:46:51.098578Z",
     "iopub.status.busy": "2023-12-19T11:46:51.098137Z",
     "iopub.status.idle": "2023-12-19T11:46:56.406025Z",
     "shell.execute_reply": "2023-12-19T11:46:56.404670Z"
    },
    "papermill": {
     "duration": 5.319494,
     "end_time": "2023-12-19T11:46:56.408816",
     "exception": false,
     "start_time": "2023-12-19T11:46:51.089322",
     "status": "completed"
    },
    "tags": []
   },
   "outputs": [
    {
     "name": "stderr",
     "output_type": "stream",
     "text": [
      "/tmp/ipykernel_19/229376941.py:1: DtypeWarning: Columns (5,13) have mixed types. Specify dtype option on import or set low_memory=False.\n",
      "  df1=pd.read_csv('/kaggle/input/airbnb-listings-reviews/Airbnb Data/Listings.csv',encoding='unicode_escape')\n"
     ]
    }
   ],
   "source": [
    "df1=pd.read_csv('/kaggle/input/airbnb-listings-reviews/Airbnb Data/Listings.csv',encoding='unicode_escape')"
   ]
  },
  {
   "cell_type": "code",
   "execution_count": 4,
   "id": "1706beda",
   "metadata": {
    "execution": {
     "iopub.execute_input": "2023-12-19T11:46:56.424568Z",
     "iopub.status.busy": "2023-12-19T11:46:56.424157Z",
     "iopub.status.idle": "2023-12-19T11:46:56.592407Z",
     "shell.execute_reply": "2023-12-19T11:46:56.591337Z"
    },
    "papermill": {
     "duration": 0.178794,
     "end_time": "2023-12-19T11:46:56.594882",
     "exception": false,
     "start_time": "2023-12-19T11:46:56.416088",
     "status": "completed"
    },
    "tags": []
   },
   "outputs": [
    {
     "data": {
      "text/html": [
       "<div>\n",
       "<style scoped>\n",
       "    .dataframe tbody tr th:only-of-type {\n",
       "        vertical-align: middle;\n",
       "    }\n",
       "\n",
       "    .dataframe tbody tr th {\n",
       "        vertical-align: top;\n",
       "    }\n",
       "\n",
       "    .dataframe thead th {\n",
       "        text-align: right;\n",
       "    }\n",
       "</style>\n",
       "<table border=\"1\" class=\"dataframe\">\n",
       "  <thead>\n",
       "    <tr style=\"text-align: right;\">\n",
       "      <th></th>\n",
       "      <th>listing_id</th>\n",
       "      <th>name</th>\n",
       "      <th>host_id</th>\n",
       "      <th>host_since</th>\n",
       "      <th>host_location</th>\n",
       "      <th>host_response_time</th>\n",
       "      <th>host_response_rate</th>\n",
       "      <th>host_acceptance_rate</th>\n",
       "      <th>host_is_superhost</th>\n",
       "      <th>host_total_listings_count</th>\n",
       "      <th>...</th>\n",
       "      <th>minimum_nights</th>\n",
       "      <th>maximum_nights</th>\n",
       "      <th>review_scores_rating</th>\n",
       "      <th>review_scores_accuracy</th>\n",
       "      <th>review_scores_cleanliness</th>\n",
       "      <th>review_scores_checkin</th>\n",
       "      <th>review_scores_communication</th>\n",
       "      <th>review_scores_location</th>\n",
       "      <th>review_scores_value</th>\n",
       "      <th>instant_bookable</th>\n",
       "    </tr>\n",
       "  </thead>\n",
       "  <tbody>\n",
       "    <tr>\n",
       "      <th>0</th>\n",
       "      <td>281420</td>\n",
       "      <td>Beautiful Flat in le Village Montmartre, Paris</td>\n",
       "      <td>1466919</td>\n",
       "      <td>2011-12-03</td>\n",
       "      <td>Paris, Ile-de-France, France</td>\n",
       "      <td>NaN</td>\n",
       "      <td>NaN</td>\n",
       "      <td>NaN</td>\n",
       "      <td>f</td>\n",
       "      <td>1.0</td>\n",
       "      <td>...</td>\n",
       "      <td>2</td>\n",
       "      <td>1125</td>\n",
       "      <td>100.0</td>\n",
       "      <td>10.0</td>\n",
       "      <td>10.0</td>\n",
       "      <td>10.0</td>\n",
       "      <td>10.0</td>\n",
       "      <td>10.0</td>\n",
       "      <td>10.0</td>\n",
       "      <td>f</td>\n",
       "    </tr>\n",
       "    <tr>\n",
       "      <th>1</th>\n",
       "      <td>3705183</td>\n",
       "      <td>39 mÃÂ² Paris (Sacre CÃ",
       "âur)</td>\n",
       "      <td>10328771</td>\n",
       "      <td>2013-11-29</td>\n",
       "      <td>Paris, Ile-de-France, France</td>\n",
       "      <td>NaN</td>\n",
       "      <td>NaN</td>\n",
       "      <td>NaN</td>\n",
       "      <td>f</td>\n",
       "      <td>1.0</td>\n",
       "      <td>...</td>\n",
       "      <td>2</td>\n",
       "      <td>1125</td>\n",
       "      <td>100.0</td>\n",
       "      <td>10.0</td>\n",
       "      <td>10.0</td>\n",
       "      <td>10.0</td>\n",
       "      <td>10.0</td>\n",
       "      <td>10.0</td>\n",
       "      <td>10.0</td>\n",
       "      <td>f</td>\n",
       "    </tr>\n",
       "    <tr>\n",
       "      <th>2</th>\n",
       "      <td>4082273</td>\n",
       "      <td>Lovely apartment with Terrace, 60m2</td>\n",
       "      <td>19252768</td>\n",
       "      <td>2014-07-31</td>\n",
       "      <td>Paris, Ile-de-France, France</td>\n",
       "      <td>NaN</td>\n",
       "      <td>NaN</td>\n",
       "      <td>NaN</td>\n",
       "      <td>f</td>\n",
       "      <td>1.0</td>\n",
       "      <td>...</td>\n",
       "      <td>2</td>\n",
       "      <td>1125</td>\n",
       "      <td>100.0</td>\n",
       "      <td>10.0</td>\n",
       "      <td>10.0</td>\n",
       "      <td>10.0</td>\n",
       "      <td>10.0</td>\n",
       "      <td>10.0</td>\n",
       "      <td>10.0</td>\n",
       "      <td>f</td>\n",
       "    </tr>\n",
       "    <tr>\n",
       "      <th>3</th>\n",
       "      <td>4797344</td>\n",
       "      <td>Cosy studio (close to Eiffel tower)</td>\n",
       "      <td>10668311</td>\n",
       "      <td>2013-12-17</td>\n",
       "      <td>Paris, Ile-de-France, France</td>\n",
       "      <td>NaN</td>\n",
       "      <td>NaN</td>\n",
       "      <td>NaN</td>\n",
       "      <td>f</td>\n",
       "      <td>1.0</td>\n",
       "      <td>...</td>\n",
       "      <td>2</td>\n",
       "      <td>1125</td>\n",
       "      <td>100.0</td>\n",
       "      <td>10.0</td>\n",
       "      <td>10.0</td>\n",
       "      <td>10.0</td>\n",
       "      <td>10.0</td>\n",
       "      <td>10.0</td>\n",
       "      <td>10.0</td>\n",
       "      <td>f</td>\n",
       "    </tr>\n",
       "    <tr>\n",
       "      <th>4</th>\n",
       "      <td>4823489</td>\n",
       "      <td>Close to Eiffel Tower - Beautiful flat : 2 rooms</td>\n",
       "      <td>24837558</td>\n",
       "      <td>2014-12-14</td>\n",
       "      <td>Paris, Ile-de-France, France</td>\n",
       "      <td>NaN</td>\n",
       "      <td>NaN</td>\n",
       "      <td>NaN</td>\n",
       "      <td>f</td>\n",
       "      <td>1.0</td>\n",
       "      <td>...</td>\n",
       "      <td>2</td>\n",
       "      <td>1125</td>\n",
       "      <td>100.0</td>\n",
       "      <td>10.0</td>\n",
       "      <td>10.0</td>\n",
       "      <td>10.0</td>\n",
       "      <td>10.0</td>\n",
       "      <td>10.0</td>\n",
       "      <td>10.0</td>\n",
       "      <td>f</td>\n",
       "    </tr>\n",
       "    <tr>\n",
       "      <th>...</th>\n",
       "      <td>...</td>\n",
       "      <td>...</td>\n",
       "      <td>...</td>\n",
       "      <td>...</td>\n",
       "      <td>...</td>\n",
       "      <td>...</td>\n",
       "      <td>...</td>\n",
       "      <td>...</td>\n",
       "      <td>...</td>\n",
       "      <td>...</td>\n",
       "      <td>...</td>\n",
       "      <td>...</td>\n",
       "      <td>...</td>\n",
       "      <td>...</td>\n",
       "      <td>...</td>\n",
       "      <td>...</td>\n",
       "      <td>...</td>\n",
       "      <td>...</td>\n",
       "      <td>...</td>\n",
       "      <td>...</td>\n",
       "      <td>...</td>\n",
       "    </tr>\n",
       "    <tr>\n",
       "      <th>279707</th>\n",
       "      <td>38338635</td>\n",
       "      <td>Appartement T2 neuf prÃÂ¨s du tram T3a Porte ...</td>\n",
       "      <td>31161181</td>\n",
       "      <td>2015-04-13</td>\n",
       "      <td>Paris, Ile-de-France, France</td>\n",
       "      <td>NaN</td>\n",
       "      <td>NaN</td>\n",
       "      <td>NaN</td>\n",
       "      <td>f</td>\n",
       "      <td>1.0</td>\n",
       "      <td>...</td>\n",
       "      <td>1</td>\n",
       "      <td>7</td>\n",
       "      <td>100.0</td>\n",
       "      <td>10.0</td>\n",
       "      <td>10.0</td>\n",
       "      <td>10.0</td>\n",
       "      <td>10.0</td>\n",
       "      <td>10.0</td>\n",
       "      <td>10.0</td>\n",
       "      <td>f</td>\n",
       "    </tr>\n",
       "    <tr>\n",
       "      <th>279708</th>\n",
       "      <td>38538692</td>\n",
       "      <td>Cozy Studio in Montmartre</td>\n",
       "      <td>10294858</td>\n",
       "      <td>2013-11-27</td>\n",
       "      <td>Paris, Ile-de-France, France</td>\n",
       "      <td>NaN</td>\n",
       "      <td>NaN</td>\n",
       "      <td>NaN</td>\n",
       "      <td>f</td>\n",
       "      <td>1.0</td>\n",
       "      <td>...</td>\n",
       "      <td>7</td>\n",
       "      <td>15</td>\n",
       "      <td>100.0</td>\n",
       "      <td>10.0</td>\n",
       "      <td>10.0</td>\n",
       "      <td>10.0</td>\n",
       "      <td>10.0</td>\n",
       "      <td>10.0</td>\n",
       "      <td>10.0</td>\n",
       "      <td>f</td>\n",
       "    </tr>\n",
       "    <tr>\n",
       "      <th>279709</th>\n",
       "      <td>38683356</td>\n",
       "      <td>Nice and cosy mini-appartement in Paris</td>\n",
       "      <td>2238502</td>\n",
       "      <td>2012-04-27</td>\n",
       "      <td>Paris, Ile-de-France, France</td>\n",
       "      <td>NaN</td>\n",
       "      <td>NaN</td>\n",
       "      <td>NaN</td>\n",
       "      <td>f</td>\n",
       "      <td>1.0</td>\n",
       "      <td>...</td>\n",
       "      <td>6</td>\n",
       "      <td>30</td>\n",
       "      <td>100.0</td>\n",
       "      <td>10.0</td>\n",
       "      <td>10.0</td>\n",
       "      <td>10.0</td>\n",
       "      <td>10.0</td>\n",
       "      <td>10.0</td>\n",
       "      <td>10.0</td>\n",
       "      <td>f</td>\n",
       "    </tr>\n",
       "    <tr>\n",
       "      <th>279710</th>\n",
       "      <td>39659000</td>\n",
       "      <td>Charming apartment near Rue Saint Maur / Oberk...</td>\n",
       "      <td>38633695</td>\n",
       "      <td>2015-07-16</td>\n",
       "      <td>Paris, Ile-de-France, France</td>\n",
       "      <td>NaN</td>\n",
       "      <td>NaN</td>\n",
       "      <td>NaN</td>\n",
       "      <td>f</td>\n",
       "      <td>1.0</td>\n",
       "      <td>...</td>\n",
       "      <td>3</td>\n",
       "      <td>18</td>\n",
       "      <td>100.0</td>\n",
       "      <td>10.0</td>\n",
       "      <td>10.0</td>\n",
       "      <td>10.0</td>\n",
       "      <td>10.0</td>\n",
       "      <td>10.0</td>\n",
       "      <td>10.0</td>\n",
       "      <td>f</td>\n",
       "    </tr>\n",
       "    <tr>\n",
       "      <th>279711</th>\n",
       "      <td>40219504</td>\n",
       "      <td>Cosy apartment with view on Canal St Martin</td>\n",
       "      <td>6955618</td>\n",
       "      <td>2013-06-17</td>\n",
       "      <td>Paris, Ile-de-France, France</td>\n",
       "      <td>NaN</td>\n",
       "      <td>NaN</td>\n",
       "      <td>NaN</td>\n",
       "      <td>f</td>\n",
       "      <td>1.0</td>\n",
       "      <td>...</td>\n",
       "      <td>2</td>\n",
       "      <td>4</td>\n",
       "      <td>100.0</td>\n",
       "      <td>10.0</td>\n",
       "      <td>10.0</td>\n",
       "      <td>10.0</td>\n",
       "      <td>10.0</td>\n",
       "      <td>10.0</td>\n",
       "      <td>10.0</td>\n",
       "      <td>f</td>\n",
       "    </tr>\n",
       "  </tbody>\n",
       "</table>\n",
       "<p>279712 rows × 33 columns</p>\n",
       "</div>"
      ],
      "text/plain": [
       "        listing_id                                               name  \\\n",
       "0           281420     Beautiful Flat in le Village Montmartre, Paris   \n",
       "1          3705183                    39 mÃÂ² Paris (Sacre CÃ\n",
       "âur)   \n",
       "2          4082273                Lovely apartment with Terrace, 60m2   \n",
       "3          4797344                Cosy studio (close to Eiffel tower)   \n",
       "4          4823489   Close to Eiffel Tower - Beautiful flat : 2 rooms   \n",
       "...            ...                                                ...   \n",
       "279707    38338635  Appartement T2 neuf prÃÂ¨s du tram T3a Porte ...   \n",
       "279708    38538692                          Cozy Studio in Montmartre   \n",
       "279709    38683356            Nice and cosy mini-appartement in Paris   \n",
       "279710    39659000  Charming apartment near Rue Saint Maur / Oberk...   \n",
       "279711    40219504        Cosy apartment with view on Canal St Martin   \n",
       "\n",
       "         host_id  host_since                 host_location host_response_time  \\\n",
       "0        1466919  2011-12-03  Paris, Ile-de-France, France                NaN   \n",
       "1       10328771  2013-11-29  Paris, Ile-de-France, France                NaN   \n",
       "2       19252768  2014-07-31  Paris, Ile-de-France, France                NaN   \n",
       "3       10668311  2013-12-17  Paris, Ile-de-France, France                NaN   \n",
       "4       24837558  2014-12-14  Paris, Ile-de-France, France                NaN   \n",
       "...          ...         ...                           ...                ...   \n",
       "279707  31161181  2015-04-13  Paris, Ile-de-France, France                NaN   \n",
       "279708  10294858  2013-11-27  Paris, Ile-de-France, France                NaN   \n",
       "279709   2238502  2012-04-27  Paris, Ile-de-France, France                NaN   \n",
       "279710  38633695  2015-07-16  Paris, Ile-de-France, France                NaN   \n",
       "279711   6955618  2013-06-17  Paris, Ile-de-France, France                NaN   \n",
       "\n",
       "        host_response_rate  host_acceptance_rate host_is_superhost  \\\n",
       "0                      NaN                   NaN                 f   \n",
       "1                      NaN                   NaN                 f   \n",
       "2                      NaN                   NaN                 f   \n",
       "3                      NaN                   NaN                 f   \n",
       "4                      NaN                   NaN                 f   \n",
       "...                    ...                   ...               ...   \n",
       "279707                 NaN                   NaN                 f   \n",
       "279708                 NaN                   NaN                 f   \n",
       "279709                 NaN                   NaN                 f   \n",
       "279710                 NaN                   NaN                 f   \n",
       "279711                 NaN                   NaN                 f   \n",
       "\n",
       "        host_total_listings_count  ... minimum_nights maximum_nights  \\\n",
       "0                             1.0  ...              2           1125   \n",
       "1                             1.0  ...              2           1125   \n",
       "2                             1.0  ...              2           1125   \n",
       "3                             1.0  ...              2           1125   \n",
       "4                             1.0  ...              2           1125   \n",
       "...                           ...  ...            ...            ...   \n",
       "279707                        1.0  ...              1              7   \n",
       "279708                        1.0  ...              7             15   \n",
       "279709                        1.0  ...              6             30   \n",
       "279710                        1.0  ...              3             18   \n",
       "279711                        1.0  ...              2              4   \n",
       "\n",
       "       review_scores_rating review_scores_accuracy review_scores_cleanliness  \\\n",
       "0                     100.0                   10.0                      10.0   \n",
       "1                     100.0                   10.0                      10.0   \n",
       "2                     100.0                   10.0                      10.0   \n",
       "3                     100.0                   10.0                      10.0   \n",
       "4                     100.0                   10.0                      10.0   \n",
       "...                     ...                    ...                       ...   \n",
       "279707                100.0                   10.0                      10.0   \n",
       "279708                100.0                   10.0                      10.0   \n",
       "279709                100.0                   10.0                      10.0   \n",
       "279710                100.0                   10.0                      10.0   \n",
       "279711                100.0                   10.0                      10.0   \n",
       "\n",
       "        review_scores_checkin  review_scores_communication  \\\n",
       "0                        10.0                         10.0   \n",
       "1                        10.0                         10.0   \n",
       "2                        10.0                         10.0   \n",
       "3                        10.0                         10.0   \n",
       "4                        10.0                         10.0   \n",
       "...                       ...                          ...   \n",
       "279707                   10.0                         10.0   \n",
       "279708                   10.0                         10.0   \n",
       "279709                   10.0                         10.0   \n",
       "279710                   10.0                         10.0   \n",
       "279711                   10.0                         10.0   \n",
       "\n",
       "       review_scores_location review_scores_value  instant_bookable  \n",
       "0                        10.0                10.0                 f  \n",
       "1                        10.0                10.0                 f  \n",
       "2                        10.0                10.0                 f  \n",
       "3                        10.0                10.0                 f  \n",
       "4                        10.0                10.0                 f  \n",
       "...                       ...                 ...               ...  \n",
       "279707                   10.0                10.0                 f  \n",
       "279708                   10.0                10.0                 f  \n",
       "279709                   10.0                10.0                 f  \n",
       "279710                   10.0                10.0                 f  \n",
       "279711                   10.0                10.0                 f  \n",
       "\n",
       "[279712 rows x 33 columns]"
      ]
     },
     "execution_count": 4,
     "metadata": {},
     "output_type": "execute_result"
    }
   ],
   "source": [
    "df1"
   ]
  },
  {
   "cell_type": "code",
   "execution_count": 5,
   "id": "5acc62e4",
   "metadata": {
    "execution": {
     "iopub.execute_input": "2023-12-19T11:46:56.611149Z",
     "iopub.status.busy": "2023-12-19T11:46:56.610238Z",
     "iopub.status.idle": "2023-12-19T11:46:56.636958Z",
     "shell.execute_reply": "2023-12-19T11:46:56.635371Z"
    },
    "papermill": {
     "duration": 0.0375,
     "end_time": "2023-12-19T11:46:56.639464",
     "exception": false,
     "start_time": "2023-12-19T11:46:56.601964",
     "status": "completed"
    },
    "tags": []
   },
   "outputs": [
    {
     "data": {
      "text/html": [
       "<div>\n",
       "<style scoped>\n",
       "    .dataframe tbody tr th:only-of-type {\n",
       "        vertical-align: middle;\n",
       "    }\n",
       "\n",
       "    .dataframe tbody tr th {\n",
       "        vertical-align: top;\n",
       "    }\n",
       "\n",
       "    .dataframe thead th {\n",
       "        text-align: right;\n",
       "    }\n",
       "</style>\n",
       "<table border=\"1\" class=\"dataframe\">\n",
       "  <thead>\n",
       "    <tr style=\"text-align: right;\">\n",
       "      <th></th>\n",
       "      <th>listing_id</th>\n",
       "      <th>name</th>\n",
       "      <th>host_id</th>\n",
       "      <th>host_since</th>\n",
       "      <th>host_location</th>\n",
       "      <th>host_response_time</th>\n",
       "      <th>host_response_rate</th>\n",
       "      <th>host_acceptance_rate</th>\n",
       "      <th>host_is_superhost</th>\n",
       "      <th>host_total_listings_count</th>\n",
       "      <th>...</th>\n",
       "      <th>minimum_nights</th>\n",
       "      <th>maximum_nights</th>\n",
       "      <th>review_scores_rating</th>\n",
       "      <th>review_scores_accuracy</th>\n",
       "      <th>review_scores_cleanliness</th>\n",
       "      <th>review_scores_checkin</th>\n",
       "      <th>review_scores_communication</th>\n",
       "      <th>review_scores_location</th>\n",
       "      <th>review_scores_value</th>\n",
       "      <th>instant_bookable</th>\n",
       "    </tr>\n",
       "  </thead>\n",
       "  <tbody>\n",
       "    <tr>\n",
       "      <th>0</th>\n",
       "      <td>281420</td>\n",
       "      <td>Beautiful Flat in le Village Montmartre, Paris</td>\n",
       "      <td>1466919</td>\n",
       "      <td>2011-12-03</td>\n",
       "      <td>Paris, Ile-de-France, France</td>\n",
       "      <td>NaN</td>\n",
       "      <td>NaN</td>\n",
       "      <td>NaN</td>\n",
       "      <td>f</td>\n",
       "      <td>1.0</td>\n",
       "      <td>...</td>\n",
       "      <td>2</td>\n",
       "      <td>1125</td>\n",
       "      <td>100.0</td>\n",
       "      <td>10.0</td>\n",
       "      <td>10.0</td>\n",
       "      <td>10.0</td>\n",
       "      <td>10.0</td>\n",
       "      <td>10.0</td>\n",
       "      <td>10.0</td>\n",
       "      <td>f</td>\n",
       "    </tr>\n",
       "    <tr>\n",
       "      <th>1</th>\n",
       "      <td>3705183</td>\n",
       "      <td>39 mÃÂ² Paris (Sacre CÃ",
       "âur)</td>\n",
       "      <td>10328771</td>\n",
       "      <td>2013-11-29</td>\n",
       "      <td>Paris, Ile-de-France, France</td>\n",
       "      <td>NaN</td>\n",
       "      <td>NaN</td>\n",
       "      <td>NaN</td>\n",
       "      <td>f</td>\n",
       "      <td>1.0</td>\n",
       "      <td>...</td>\n",
       "      <td>2</td>\n",
       "      <td>1125</td>\n",
       "      <td>100.0</td>\n",
       "      <td>10.0</td>\n",
       "      <td>10.0</td>\n",
       "      <td>10.0</td>\n",
       "      <td>10.0</td>\n",
       "      <td>10.0</td>\n",
       "      <td>10.0</td>\n",
       "      <td>f</td>\n",
       "    </tr>\n",
       "    <tr>\n",
       "      <th>2</th>\n",
       "      <td>4082273</td>\n",
       "      <td>Lovely apartment with Terrace, 60m2</td>\n",
       "      <td>19252768</td>\n",
       "      <td>2014-07-31</td>\n",
       "      <td>Paris, Ile-de-France, France</td>\n",
       "      <td>NaN</td>\n",
       "      <td>NaN</td>\n",
       "      <td>NaN</td>\n",
       "      <td>f</td>\n",
       "      <td>1.0</td>\n",
       "      <td>...</td>\n",
       "      <td>2</td>\n",
       "      <td>1125</td>\n",
       "      <td>100.0</td>\n",
       "      <td>10.0</td>\n",
       "      <td>10.0</td>\n",
       "      <td>10.0</td>\n",
       "      <td>10.0</td>\n",
       "      <td>10.0</td>\n",
       "      <td>10.0</td>\n",
       "      <td>f</td>\n",
       "    </tr>\n",
       "    <tr>\n",
       "      <th>3</th>\n",
       "      <td>4797344</td>\n",
       "      <td>Cosy studio (close to Eiffel tower)</td>\n",
       "      <td>10668311</td>\n",
       "      <td>2013-12-17</td>\n",
       "      <td>Paris, Ile-de-France, France</td>\n",
       "      <td>NaN</td>\n",
       "      <td>NaN</td>\n",
       "      <td>NaN</td>\n",
       "      <td>f</td>\n",
       "      <td>1.0</td>\n",
       "      <td>...</td>\n",
       "      <td>2</td>\n",
       "      <td>1125</td>\n",
       "      <td>100.0</td>\n",
       "      <td>10.0</td>\n",
       "      <td>10.0</td>\n",
       "      <td>10.0</td>\n",
       "      <td>10.0</td>\n",
       "      <td>10.0</td>\n",
       "      <td>10.0</td>\n",
       "      <td>f</td>\n",
       "    </tr>\n",
       "    <tr>\n",
       "      <th>4</th>\n",
       "      <td>4823489</td>\n",
       "      <td>Close to Eiffel Tower - Beautiful flat : 2 rooms</td>\n",
       "      <td>24837558</td>\n",
       "      <td>2014-12-14</td>\n",
       "      <td>Paris, Ile-de-France, France</td>\n",
       "      <td>NaN</td>\n",
       "      <td>NaN</td>\n",
       "      <td>NaN</td>\n",
       "      <td>f</td>\n",
       "      <td>1.0</td>\n",
       "      <td>...</td>\n",
       "      <td>2</td>\n",
       "      <td>1125</td>\n",
       "      <td>100.0</td>\n",
       "      <td>10.0</td>\n",
       "      <td>10.0</td>\n",
       "      <td>10.0</td>\n",
       "      <td>10.0</td>\n",
       "      <td>10.0</td>\n",
       "      <td>10.0</td>\n",
       "      <td>f</td>\n",
       "    </tr>\n",
       "  </tbody>\n",
       "</table>\n",
       "<p>5 rows × 33 columns</p>\n",
       "</div>"
      ],
      "text/plain": [
       "   listing_id                                              name   host_id  \\\n",
       "0      281420    Beautiful Flat in le Village Montmartre, Paris   1466919   \n",
       "1     3705183                   39 mÃÂ² Paris (Sacre CÃ\n",
       "âur)  10328771   \n",
       "2     4082273               Lovely apartment with Terrace, 60m2  19252768   \n",
       "3     4797344               Cosy studio (close to Eiffel tower)  10668311   \n",
       "4     4823489  Close to Eiffel Tower - Beautiful flat : 2 rooms  24837558   \n",
       "\n",
       "   host_since                 host_location host_response_time  \\\n",
       "0  2011-12-03  Paris, Ile-de-France, France                NaN   \n",
       "1  2013-11-29  Paris, Ile-de-France, France                NaN   \n",
       "2  2014-07-31  Paris, Ile-de-France, France                NaN   \n",
       "3  2013-12-17  Paris, Ile-de-France, France                NaN   \n",
       "4  2014-12-14  Paris, Ile-de-France, France                NaN   \n",
       "\n",
       "   host_response_rate  host_acceptance_rate host_is_superhost  \\\n",
       "0                 NaN                   NaN                 f   \n",
       "1                 NaN                   NaN                 f   \n",
       "2                 NaN                   NaN                 f   \n",
       "3                 NaN                   NaN                 f   \n",
       "4                 NaN                   NaN                 f   \n",
       "\n",
       "   host_total_listings_count  ... minimum_nights maximum_nights  \\\n",
       "0                        1.0  ...              2           1125   \n",
       "1                        1.0  ...              2           1125   \n",
       "2                        1.0  ...              2           1125   \n",
       "3                        1.0  ...              2           1125   \n",
       "4                        1.0  ...              2           1125   \n",
       "\n",
       "  review_scores_rating review_scores_accuracy review_scores_cleanliness  \\\n",
       "0                100.0                   10.0                      10.0   \n",
       "1                100.0                   10.0                      10.0   \n",
       "2                100.0                   10.0                      10.0   \n",
       "3                100.0                   10.0                      10.0   \n",
       "4                100.0                   10.0                      10.0   \n",
       "\n",
       "   review_scores_checkin  review_scores_communication review_scores_location  \\\n",
       "0                   10.0                         10.0                   10.0   \n",
       "1                   10.0                         10.0                   10.0   \n",
       "2                   10.0                         10.0                   10.0   \n",
       "3                   10.0                         10.0                   10.0   \n",
       "4                   10.0                         10.0                   10.0   \n",
       "\n",
       "  review_scores_value  instant_bookable  \n",
       "0                10.0                 f  \n",
       "1                10.0                 f  \n",
       "2                10.0                 f  \n",
       "3                10.0                 f  \n",
       "4                10.0                 f  \n",
       "\n",
       "[5 rows x 33 columns]"
      ]
     },
     "execution_count": 5,
     "metadata": {},
     "output_type": "execute_result"
    }
   ],
   "source": [
    "df1.head(5)\n",
    "\n"
   ]
  },
  {
   "cell_type": "code",
   "execution_count": 6,
   "id": "032201ba",
   "metadata": {
    "execution": {
     "iopub.execute_input": "2023-12-19T11:46:56.656714Z",
     "iopub.status.busy": "2023-12-19T11:46:56.655936Z",
     "iopub.status.idle": "2023-12-19T11:46:56.680592Z",
     "shell.execute_reply": "2023-12-19T11:46:56.679506Z"
    },
    "papermill": {
     "duration": 0.035514,
     "end_time": "2023-12-19T11:46:56.682688",
     "exception": false,
     "start_time": "2023-12-19T11:46:56.647174",
     "status": "completed"
    },
    "tags": []
   },
   "outputs": [
    {
     "data": {
      "text/html": [
       "<div>\n",
       "<style scoped>\n",
       "    .dataframe tbody tr th:only-of-type {\n",
       "        vertical-align: middle;\n",
       "    }\n",
       "\n",
       "    .dataframe tbody tr th {\n",
       "        vertical-align: top;\n",
       "    }\n",
       "\n",
       "    .dataframe thead th {\n",
       "        text-align: right;\n",
       "    }\n",
       "</style>\n",
       "<table border=\"1\" class=\"dataframe\">\n",
       "  <thead>\n",
       "    <tr style=\"text-align: right;\">\n",
       "      <th></th>\n",
       "      <th>listing_id</th>\n",
       "      <th>name</th>\n",
       "      <th>host_id</th>\n",
       "      <th>host_since</th>\n",
       "      <th>host_location</th>\n",
       "      <th>host_response_time</th>\n",
       "      <th>host_response_rate</th>\n",
       "      <th>host_acceptance_rate</th>\n",
       "      <th>host_is_superhost</th>\n",
       "      <th>host_total_listings_count</th>\n",
       "      <th>...</th>\n",
       "      <th>minimum_nights</th>\n",
       "      <th>maximum_nights</th>\n",
       "      <th>review_scores_rating</th>\n",
       "      <th>review_scores_accuracy</th>\n",
       "      <th>review_scores_cleanliness</th>\n",
       "      <th>review_scores_checkin</th>\n",
       "      <th>review_scores_communication</th>\n",
       "      <th>review_scores_location</th>\n",
       "      <th>review_scores_value</th>\n",
       "      <th>instant_bookable</th>\n",
       "    </tr>\n",
       "  </thead>\n",
       "  <tbody>\n",
       "    <tr>\n",
       "      <th>279707</th>\n",
       "      <td>38338635</td>\n",
       "      <td>Appartement T2 neuf prÃÂ¨s du tram T3a Porte ...</td>\n",
       "      <td>31161181</td>\n",
       "      <td>2015-04-13</td>\n",
       "      <td>Paris, Ile-de-France, France</td>\n",
       "      <td>NaN</td>\n",
       "      <td>NaN</td>\n",
       "      <td>NaN</td>\n",
       "      <td>f</td>\n",
       "      <td>1.0</td>\n",
       "      <td>...</td>\n",
       "      <td>1</td>\n",
       "      <td>7</td>\n",
       "      <td>100.0</td>\n",
       "      <td>10.0</td>\n",
       "      <td>10.0</td>\n",
       "      <td>10.0</td>\n",
       "      <td>10.0</td>\n",
       "      <td>10.0</td>\n",
       "      <td>10.0</td>\n",
       "      <td>f</td>\n",
       "    </tr>\n",
       "    <tr>\n",
       "      <th>279708</th>\n",
       "      <td>38538692</td>\n",
       "      <td>Cozy Studio in Montmartre</td>\n",
       "      <td>10294858</td>\n",
       "      <td>2013-11-27</td>\n",
       "      <td>Paris, Ile-de-France, France</td>\n",
       "      <td>NaN</td>\n",
       "      <td>NaN</td>\n",
       "      <td>NaN</td>\n",
       "      <td>f</td>\n",
       "      <td>1.0</td>\n",
       "      <td>...</td>\n",
       "      <td>7</td>\n",
       "      <td>15</td>\n",
       "      <td>100.0</td>\n",
       "      <td>10.0</td>\n",
       "      <td>10.0</td>\n",
       "      <td>10.0</td>\n",
       "      <td>10.0</td>\n",
       "      <td>10.0</td>\n",
       "      <td>10.0</td>\n",
       "      <td>f</td>\n",
       "    </tr>\n",
       "    <tr>\n",
       "      <th>279709</th>\n",
       "      <td>38683356</td>\n",
       "      <td>Nice and cosy mini-appartement in Paris</td>\n",
       "      <td>2238502</td>\n",
       "      <td>2012-04-27</td>\n",
       "      <td>Paris, Ile-de-France, France</td>\n",
       "      <td>NaN</td>\n",
       "      <td>NaN</td>\n",
       "      <td>NaN</td>\n",
       "      <td>f</td>\n",
       "      <td>1.0</td>\n",
       "      <td>...</td>\n",
       "      <td>6</td>\n",
       "      <td>30</td>\n",
       "      <td>100.0</td>\n",
       "      <td>10.0</td>\n",
       "      <td>10.0</td>\n",
       "      <td>10.0</td>\n",
       "      <td>10.0</td>\n",
       "      <td>10.0</td>\n",
       "      <td>10.0</td>\n",
       "      <td>f</td>\n",
       "    </tr>\n",
       "    <tr>\n",
       "      <th>279710</th>\n",
       "      <td>39659000</td>\n",
       "      <td>Charming apartment near Rue Saint Maur / Oberk...</td>\n",
       "      <td>38633695</td>\n",
       "      <td>2015-07-16</td>\n",
       "      <td>Paris, Ile-de-France, France</td>\n",
       "      <td>NaN</td>\n",
       "      <td>NaN</td>\n",
       "      <td>NaN</td>\n",
       "      <td>f</td>\n",
       "      <td>1.0</td>\n",
       "      <td>...</td>\n",
       "      <td>3</td>\n",
       "      <td>18</td>\n",
       "      <td>100.0</td>\n",
       "      <td>10.0</td>\n",
       "      <td>10.0</td>\n",
       "      <td>10.0</td>\n",
       "      <td>10.0</td>\n",
       "      <td>10.0</td>\n",
       "      <td>10.0</td>\n",
       "      <td>f</td>\n",
       "    </tr>\n",
       "    <tr>\n",
       "      <th>279711</th>\n",
       "      <td>40219504</td>\n",
       "      <td>Cosy apartment with view on Canal St Martin</td>\n",
       "      <td>6955618</td>\n",
       "      <td>2013-06-17</td>\n",
       "      <td>Paris, Ile-de-France, France</td>\n",
       "      <td>NaN</td>\n",
       "      <td>NaN</td>\n",
       "      <td>NaN</td>\n",
       "      <td>f</td>\n",
       "      <td>1.0</td>\n",
       "      <td>...</td>\n",
       "      <td>2</td>\n",
       "      <td>4</td>\n",
       "      <td>100.0</td>\n",
       "      <td>10.0</td>\n",
       "      <td>10.0</td>\n",
       "      <td>10.0</td>\n",
       "      <td>10.0</td>\n",
       "      <td>10.0</td>\n",
       "      <td>10.0</td>\n",
       "      <td>f</td>\n",
       "    </tr>\n",
       "  </tbody>\n",
       "</table>\n",
       "<p>5 rows × 33 columns</p>\n",
       "</div>"
      ],
      "text/plain": [
       "        listing_id                                               name  \\\n",
       "279707    38338635  Appartement T2 neuf prÃÂ¨s du tram T3a Porte ...   \n",
       "279708    38538692                          Cozy Studio in Montmartre   \n",
       "279709    38683356            Nice and cosy mini-appartement in Paris   \n",
       "279710    39659000  Charming apartment near Rue Saint Maur / Oberk...   \n",
       "279711    40219504        Cosy apartment with view on Canal St Martin   \n",
       "\n",
       "         host_id  host_since                 host_location host_response_time  \\\n",
       "279707  31161181  2015-04-13  Paris, Ile-de-France, France                NaN   \n",
       "279708  10294858  2013-11-27  Paris, Ile-de-France, France                NaN   \n",
       "279709   2238502  2012-04-27  Paris, Ile-de-France, France                NaN   \n",
       "279710  38633695  2015-07-16  Paris, Ile-de-France, France                NaN   \n",
       "279711   6955618  2013-06-17  Paris, Ile-de-France, France                NaN   \n",
       "\n",
       "        host_response_rate  host_acceptance_rate host_is_superhost  \\\n",
       "279707                 NaN                   NaN                 f   \n",
       "279708                 NaN                   NaN                 f   \n",
       "279709                 NaN                   NaN                 f   \n",
       "279710                 NaN                   NaN                 f   \n",
       "279711                 NaN                   NaN                 f   \n",
       "\n",
       "        host_total_listings_count  ... minimum_nights maximum_nights  \\\n",
       "279707                        1.0  ...              1              7   \n",
       "279708                        1.0  ...              7             15   \n",
       "279709                        1.0  ...              6             30   \n",
       "279710                        1.0  ...              3             18   \n",
       "279711                        1.0  ...              2              4   \n",
       "\n",
       "       review_scores_rating review_scores_accuracy review_scores_cleanliness  \\\n",
       "279707                100.0                   10.0                      10.0   \n",
       "279708                100.0                   10.0                      10.0   \n",
       "279709                100.0                   10.0                      10.0   \n",
       "279710                100.0                   10.0                      10.0   \n",
       "279711                100.0                   10.0                      10.0   \n",
       "\n",
       "        review_scores_checkin  review_scores_communication  \\\n",
       "279707                   10.0                         10.0   \n",
       "279708                   10.0                         10.0   \n",
       "279709                   10.0                         10.0   \n",
       "279710                   10.0                         10.0   \n",
       "279711                   10.0                         10.0   \n",
       "\n",
       "       review_scores_location review_scores_value  instant_bookable  \n",
       "279707                   10.0                10.0                 f  \n",
       "279708                   10.0                10.0                 f  \n",
       "279709                   10.0                10.0                 f  \n",
       "279710                   10.0                10.0                 f  \n",
       "279711                   10.0                10.0                 f  \n",
       "\n",
       "[5 rows x 33 columns]"
      ]
     },
     "execution_count": 6,
     "metadata": {},
     "output_type": "execute_result"
    }
   ],
   "source": [
    "df1.tail(5)"
   ]
  },
  {
   "cell_type": "code",
   "execution_count": 7,
   "id": "32e1298c",
   "metadata": {
    "execution": {
     "iopub.execute_input": "2023-12-19T11:46:56.700864Z",
     "iopub.status.busy": "2023-12-19T11:46:56.700133Z",
     "iopub.status.idle": "2023-12-19T11:46:56.706917Z",
     "shell.execute_reply": "2023-12-19T11:46:56.705911Z"
    },
    "papermill": {
     "duration": 0.018425,
     "end_time": "2023-12-19T11:46:56.709103",
     "exception": false,
     "start_time": "2023-12-19T11:46:56.690678",
     "status": "completed"
    },
    "tags": []
   },
   "outputs": [
    {
     "data": {
      "text/plain": [
       "(279712, 33)"
      ]
     },
     "execution_count": 7,
     "metadata": {},
     "output_type": "execute_result"
    }
   ],
   "source": [
    "df1.shape"
   ]
  },
  {
   "cell_type": "markdown",
   "id": "87ac5f11",
   "metadata": {
    "papermill": {
     "duration": 0.007517,
     "end_time": "2023-12-19T11:46:56.724576",
     "exception": false,
     "start_time": "2023-12-19T11:46:56.717059",
     "status": "completed"
    },
    "tags": []
   },
   "source": [
    "(row,columns)"
   ]
  },
  {
   "cell_type": "code",
   "execution_count": 8,
   "id": "023ff4dc",
   "metadata": {
    "execution": {
     "iopub.execute_input": "2023-12-19T11:46:56.741760Z",
     "iopub.status.busy": "2023-12-19T11:46:56.741379Z",
     "iopub.status.idle": "2023-12-19T11:46:56.960852Z",
     "shell.execute_reply": "2023-12-19T11:46:56.959742Z"
    },
    "papermill": {
     "duration": 0.230857,
     "end_time": "2023-12-19T11:46:56.963207",
     "exception": false,
     "start_time": "2023-12-19T11:46:56.732350",
     "status": "completed"
    },
    "tags": []
   },
   "outputs": [
    {
     "name": "stdout",
     "output_type": "stream",
     "text": [
      "<class 'pandas.core.frame.DataFrame'>\n",
      "RangeIndex: 279712 entries, 0 to 279711\n",
      "Data columns (total 33 columns):\n",
      " #   Column                       Non-Null Count   Dtype  \n",
      "---  ------                       --------------   -----  \n",
      " 0   listing_id                   279712 non-null  int64  \n",
      " 1   name                         279537 non-null  object \n",
      " 2   host_id                      279712 non-null  int64  \n",
      " 3   host_since                   279547 non-null  object \n",
      " 4   host_location                278872 non-null  object \n",
      " 5   host_response_time           150930 non-null  object \n",
      " 6   host_response_rate           150930 non-null  float64\n",
      " 7   host_acceptance_rate         166625 non-null  float64\n",
      " 8   host_is_superhost            279547 non-null  object \n",
      " 9   host_total_listings_count    279547 non-null  float64\n",
      " 10  host_has_profile_pic         279547 non-null  object \n",
      " 11  host_identity_verified       279547 non-null  object \n",
      " 12  neighbourhood                279712 non-null  object \n",
      " 13  district                     37012 non-null   object \n",
      " 14  city                         279712 non-null  object \n",
      " 15  latitude                     279712 non-null  float64\n",
      " 16  longitude                    279712 non-null  float64\n",
      " 17  property_type                279712 non-null  object \n",
      " 18  room_type                    279712 non-null  object \n",
      " 19  accommodates                 279712 non-null  int64  \n",
      " 20  bedrooms                     250277 non-null  float64\n",
      " 21  amenities                    279712 non-null  object \n",
      " 22  price                        279712 non-null  int64  \n",
      " 23  minimum_nights               279712 non-null  int64  \n",
      " 24  maximum_nights               279712 non-null  int64  \n",
      " 25  review_scores_rating         188307 non-null  float64\n",
      " 26  review_scores_accuracy       187999 non-null  float64\n",
      " 27  review_scores_cleanliness    188047 non-null  float64\n",
      " 28  review_scores_checkin        187941 non-null  float64\n",
      " 29  review_scores_communication  188025 non-null  float64\n",
      " 30  review_scores_location       187937 non-null  float64\n",
      " 31  review_scores_value          187927 non-null  float64\n",
      " 32  instant_bookable             279712 non-null  object \n",
      "dtypes: float64(13), int64(6), object(14)\n",
      "memory usage: 70.4+ MB\n"
     ]
    }
   ],
   "source": [
    "df1.info()"
   ]
  },
  {
   "cell_type": "code",
   "execution_count": 9,
   "id": "8eef5b6b",
   "metadata": {
    "execution": {
     "iopub.execute_input": "2023-12-19T11:46:56.981709Z",
     "iopub.status.busy": "2023-12-19T11:46:56.981057Z",
     "iopub.status.idle": "2023-12-19T11:46:57.181454Z",
     "shell.execute_reply": "2023-12-19T11:46:57.180350Z"
    },
    "papermill": {
     "duration": 0.212171,
     "end_time": "2023-12-19T11:46:57.183659",
     "exception": false,
     "start_time": "2023-12-19T11:46:56.971488",
     "status": "completed"
    },
    "tags": []
   },
   "outputs": [
    {
     "data": {
      "text/plain": [
       "listing_id                     279712\n",
       "name                           279537\n",
       "host_id                        279712\n",
       "host_since                     279547\n",
       "host_location                  278872\n",
       "host_response_time             150930\n",
       "host_response_rate             150930\n",
       "host_acceptance_rate           166625\n",
       "host_is_superhost              279547\n",
       "host_total_listings_count      279547\n",
       "host_has_profile_pic           279547\n",
       "host_identity_verified         279547\n",
       "neighbourhood                  279712\n",
       "district                        37012\n",
       "city                           279712\n",
       "latitude                       279712\n",
       "longitude                      279712\n",
       "property_type                  279712\n",
       "room_type                      279712\n",
       "accommodates                   279712\n",
       "bedrooms                       250277\n",
       "amenities                      279712\n",
       "price                          279712\n",
       "minimum_nights                 279712\n",
       "maximum_nights                 279712\n",
       "review_scores_rating           188307\n",
       "review_scores_accuracy         187999\n",
       "review_scores_cleanliness      188047\n",
       "review_scores_checkin          187941\n",
       "review_scores_communication    188025\n",
       "review_scores_location         187937\n",
       "review_scores_value            187927\n",
       "instant_bookable               279712\n",
       "dtype: int64"
      ]
     },
     "execution_count": 9,
     "metadata": {},
     "output_type": "execute_result"
    }
   ],
   "source": [
    "df1.count()"
   ]
  },
  {
   "cell_type": "code",
   "execution_count": 10,
   "id": "8217b891",
   "metadata": {
    "execution": {
     "iopub.execute_input": "2023-12-19T11:46:57.202648Z",
     "iopub.status.busy": "2023-12-19T11:46:57.202008Z",
     "iopub.status.idle": "2023-12-19T11:46:57.490167Z",
     "shell.execute_reply": "2023-12-19T11:46:57.488942Z"
    },
    "papermill": {
     "duration": 0.300554,
     "end_time": "2023-12-19T11:46:57.492576",
     "exception": false,
     "start_time": "2023-12-19T11:46:57.192022",
     "status": "completed"
    },
    "tags": []
   },
   "outputs": [
    {
     "data": {
      "text/html": [
       "<div>\n",
       "<style scoped>\n",
       "    .dataframe tbody tr th:only-of-type {\n",
       "        vertical-align: middle;\n",
       "    }\n",
       "\n",
       "    .dataframe tbody tr th {\n",
       "        vertical-align: top;\n",
       "    }\n",
       "\n",
       "    .dataframe thead th {\n",
       "        text-align: right;\n",
       "    }\n",
       "</style>\n",
       "<table border=\"1\" class=\"dataframe\">\n",
       "  <thead>\n",
       "    <tr style=\"text-align: right;\">\n",
       "      <th></th>\n",
       "      <th>listing_id</th>\n",
       "      <th>host_id</th>\n",
       "      <th>host_response_rate</th>\n",
       "      <th>host_acceptance_rate</th>\n",
       "      <th>host_total_listings_count</th>\n",
       "      <th>latitude</th>\n",
       "      <th>longitude</th>\n",
       "      <th>accommodates</th>\n",
       "      <th>bedrooms</th>\n",
       "      <th>price</th>\n",
       "      <th>minimum_nights</th>\n",
       "      <th>maximum_nights</th>\n",
       "      <th>review_scores_rating</th>\n",
       "      <th>review_scores_accuracy</th>\n",
       "      <th>review_scores_cleanliness</th>\n",
       "      <th>review_scores_checkin</th>\n",
       "      <th>review_scores_communication</th>\n",
       "      <th>review_scores_location</th>\n",
       "      <th>review_scores_value</th>\n",
       "    </tr>\n",
       "  </thead>\n",
       "  <tbody>\n",
       "    <tr>\n",
       "      <th>count</th>\n",
       "      <td>2.797120e+05</td>\n",
       "      <td>2.797120e+05</td>\n",
       "      <td>150930.000000</td>\n",
       "      <td>166625.000000</td>\n",
       "      <td>279547.000000</td>\n",
       "      <td>279712.000000</td>\n",
       "      <td>279712.000000</td>\n",
       "      <td>279712.000000</td>\n",
       "      <td>250277.000000</td>\n",
       "      <td>279712.000000</td>\n",
       "      <td>279712.000000</td>\n",
       "      <td>2.797120e+05</td>\n",
       "      <td>188307.000000</td>\n",
       "      <td>187999.000000</td>\n",
       "      <td>188047.000000</td>\n",
       "      <td>187941.000000</td>\n",
       "      <td>188025.000000</td>\n",
       "      <td>187937.000000</td>\n",
       "      <td>187927.000000</td>\n",
       "    </tr>\n",
       "    <tr>\n",
       "      <th>mean</th>\n",
       "      <td>2.638196e+07</td>\n",
       "      <td>1.081658e+08</td>\n",
       "      <td>0.865939</td>\n",
       "      <td>0.827168</td>\n",
       "      <td>24.581612</td>\n",
       "      <td>18.761862</td>\n",
       "      <td>12.595075</td>\n",
       "      <td>3.288736</td>\n",
       "      <td>1.515509</td>\n",
       "      <td>608.792737</td>\n",
       "      <td>8.050967</td>\n",
       "      <td>2.755860e+04</td>\n",
       "      <td>93.405195</td>\n",
       "      <td>9.565476</td>\n",
       "      <td>9.312869</td>\n",
       "      <td>9.701534</td>\n",
       "      <td>9.698593</td>\n",
       "      <td>9.633994</td>\n",
       "      <td>9.335364</td>\n",
       "    </tr>\n",
       "    <tr>\n",
       "      <th>std</th>\n",
       "      <td>1.442576e+07</td>\n",
       "      <td>1.108570e+08</td>\n",
       "      <td>0.283744</td>\n",
       "      <td>0.289202</td>\n",
       "      <td>284.041143</td>\n",
       "      <td>32.560343</td>\n",
       "      <td>73.081309</td>\n",
       "      <td>2.133379</td>\n",
       "      <td>1.153080</td>\n",
       "      <td>3441.826611</td>\n",
       "      <td>31.518946</td>\n",
       "      <td>7.282875e+06</td>\n",
       "      <td>10.070437</td>\n",
       "      <td>0.990878</td>\n",
       "      <td>1.146072</td>\n",
       "      <td>0.867434</td>\n",
       "      <td>0.886884</td>\n",
       "      <td>0.833234</td>\n",
       "      <td>1.042625</td>\n",
       "    </tr>\n",
       "    <tr>\n",
       "      <th>min</th>\n",
       "      <td>2.577000e+03</td>\n",
       "      <td>1.822000e+03</td>\n",
       "      <td>0.000000</td>\n",
       "      <td>0.000000</td>\n",
       "      <td>0.000000</td>\n",
       "      <td>-34.264400</td>\n",
       "      <td>-99.339630</td>\n",
       "      <td>0.000000</td>\n",
       "      <td>1.000000</td>\n",
       "      <td>0.000000</td>\n",
       "      <td>1.000000</td>\n",
       "      <td>1.000000e+00</td>\n",
       "      <td>20.000000</td>\n",
       "      <td>2.000000</td>\n",
       "      <td>2.000000</td>\n",
       "      <td>2.000000</td>\n",
       "      <td>2.000000</td>\n",
       "      <td>2.000000</td>\n",
       "      <td>2.000000</td>\n",
       "    </tr>\n",
       "    <tr>\n",
       "      <th>25%</th>\n",
       "      <td>1.384462e+07</td>\n",
       "      <td>1.720656e+07</td>\n",
       "      <td>0.900000</td>\n",
       "      <td>0.780000</td>\n",
       "      <td>1.000000</td>\n",
       "      <td>-22.964390</td>\n",
       "      <td>-43.198040</td>\n",
       "      <td>2.000000</td>\n",
       "      <td>1.000000</td>\n",
       "      <td>75.000000</td>\n",
       "      <td>1.000000</td>\n",
       "      <td>4.500000e+01</td>\n",
       "      <td>91.000000</td>\n",
       "      <td>9.000000</td>\n",
       "      <td>9.000000</td>\n",
       "      <td>10.000000</td>\n",
       "      <td>10.000000</td>\n",
       "      <td>9.000000</td>\n",
       "      <td>9.000000</td>\n",
       "    </tr>\n",
       "    <tr>\n",
       "      <th>50%</th>\n",
       "      <td>2.767098e+07</td>\n",
       "      <td>5.826911e+07</td>\n",
       "      <td>1.000000</td>\n",
       "      <td>0.980000</td>\n",
       "      <td>1.000000</td>\n",
       "      <td>40.710785</td>\n",
       "      <td>2.382780</td>\n",
       "      <td>2.000000</td>\n",
       "      <td>1.000000</td>\n",
       "      <td>150.000000</td>\n",
       "      <td>2.000000</td>\n",
       "      <td>1.125000e+03</td>\n",
       "      <td>96.000000</td>\n",
       "      <td>10.000000</td>\n",
       "      <td>10.000000</td>\n",
       "      <td>10.000000</td>\n",
       "      <td>10.000000</td>\n",
       "      <td>10.000000</td>\n",
       "      <td>10.000000</td>\n",
       "    </tr>\n",
       "    <tr>\n",
       "      <th>75%</th>\n",
       "      <td>3.978485e+07</td>\n",
       "      <td>1.832853e+08</td>\n",
       "      <td>1.000000</td>\n",
       "      <td>1.000000</td>\n",
       "      <td>4.000000</td>\n",
       "      <td>41.908610</td>\n",
       "      <td>28.986730</td>\n",
       "      <td>4.000000</td>\n",
       "      <td>2.000000</td>\n",
       "      <td>474.000000</td>\n",
       "      <td>5.000000</td>\n",
       "      <td>1.125000e+03</td>\n",
       "      <td>100.000000</td>\n",
       "      <td>10.000000</td>\n",
       "      <td>10.000000</td>\n",
       "      <td>10.000000</td>\n",
       "      <td>10.000000</td>\n",
       "      <td>10.000000</td>\n",
       "      <td>10.000000</td>\n",
       "    </tr>\n",
       "    <tr>\n",
       "      <th>max</th>\n",
       "      <td>4.834353e+07</td>\n",
       "      <td>3.901874e+08</td>\n",
       "      <td>1.000000</td>\n",
       "      <td>1.000000</td>\n",
       "      <td>7235.000000</td>\n",
       "      <td>48.904910</td>\n",
       "      <td>151.339810</td>\n",
       "      <td>16.000000</td>\n",
       "      <td>50.000000</td>\n",
       "      <td>625216.000000</td>\n",
       "      <td>9999.000000</td>\n",
       "      <td>2.147484e+09</td>\n",
       "      <td>100.000000</td>\n",
       "      <td>10.000000</td>\n",
       "      <td>10.000000</td>\n",
       "      <td>10.000000</td>\n",
       "      <td>10.000000</td>\n",
       "      <td>10.000000</td>\n",
       "      <td>10.000000</td>\n",
       "    </tr>\n",
       "  </tbody>\n",
       "</table>\n",
       "</div>"
      ],
      "text/plain": [
       "         listing_id       host_id  host_response_rate  host_acceptance_rate  \\\n",
       "count  2.797120e+05  2.797120e+05       150930.000000         166625.000000   \n",
       "mean   2.638196e+07  1.081658e+08            0.865939              0.827168   \n",
       "std    1.442576e+07  1.108570e+08            0.283744              0.289202   \n",
       "min    2.577000e+03  1.822000e+03            0.000000              0.000000   \n",
       "25%    1.384462e+07  1.720656e+07            0.900000              0.780000   \n",
       "50%    2.767098e+07  5.826911e+07            1.000000              0.980000   \n",
       "75%    3.978485e+07  1.832853e+08            1.000000              1.000000   \n",
       "max    4.834353e+07  3.901874e+08            1.000000              1.000000   \n",
       "\n",
       "       host_total_listings_count       latitude      longitude   accommodates  \\\n",
       "count              279547.000000  279712.000000  279712.000000  279712.000000   \n",
       "mean                   24.581612      18.761862      12.595075       3.288736   \n",
       "std                   284.041143      32.560343      73.081309       2.133379   \n",
       "min                     0.000000     -34.264400     -99.339630       0.000000   \n",
       "25%                     1.000000     -22.964390     -43.198040       2.000000   \n",
       "50%                     1.000000      40.710785       2.382780       2.000000   \n",
       "75%                     4.000000      41.908610      28.986730       4.000000   \n",
       "max                  7235.000000      48.904910     151.339810      16.000000   \n",
       "\n",
       "            bedrooms          price  minimum_nights  maximum_nights  \\\n",
       "count  250277.000000  279712.000000   279712.000000    2.797120e+05   \n",
       "mean        1.515509     608.792737        8.050967    2.755860e+04   \n",
       "std         1.153080    3441.826611       31.518946    7.282875e+06   \n",
       "min         1.000000       0.000000        1.000000    1.000000e+00   \n",
       "25%         1.000000      75.000000        1.000000    4.500000e+01   \n",
       "50%         1.000000     150.000000        2.000000    1.125000e+03   \n",
       "75%         2.000000     474.000000        5.000000    1.125000e+03   \n",
       "max        50.000000  625216.000000     9999.000000    2.147484e+09   \n",
       "\n",
       "       review_scores_rating  review_scores_accuracy  \\\n",
       "count         188307.000000           187999.000000   \n",
       "mean              93.405195                9.565476   \n",
       "std               10.070437                0.990878   \n",
       "min               20.000000                2.000000   \n",
       "25%               91.000000                9.000000   \n",
       "50%               96.000000               10.000000   \n",
       "75%              100.000000               10.000000   \n",
       "max              100.000000               10.000000   \n",
       "\n",
       "       review_scores_cleanliness  review_scores_checkin  \\\n",
       "count              188047.000000          187941.000000   \n",
       "mean                    9.312869               9.701534   \n",
       "std                     1.146072               0.867434   \n",
       "min                     2.000000               2.000000   \n",
       "25%                     9.000000              10.000000   \n",
       "50%                    10.000000              10.000000   \n",
       "75%                    10.000000              10.000000   \n",
       "max                    10.000000              10.000000   \n",
       "\n",
       "       review_scores_communication  review_scores_location  \\\n",
       "count                188025.000000           187937.000000   \n",
       "mean                      9.698593                9.633994   \n",
       "std                       0.886884                0.833234   \n",
       "min                       2.000000                2.000000   \n",
       "25%                      10.000000                9.000000   \n",
       "50%                      10.000000               10.000000   \n",
       "75%                      10.000000               10.000000   \n",
       "max                      10.000000               10.000000   \n",
       "\n",
       "       review_scores_value  \n",
       "count        187927.000000  \n",
       "mean              9.335364  \n",
       "std               1.042625  \n",
       "min               2.000000  \n",
       "25%               9.000000  \n",
       "50%              10.000000  \n",
       "75%              10.000000  \n",
       "max              10.000000  "
      ]
     },
     "execution_count": 10,
     "metadata": {},
     "output_type": "execute_result"
    }
   ],
   "source": [
    "df1.describe()"
   ]
  },
  {
   "cell_type": "code",
   "execution_count": 11,
   "id": "49accd49",
   "metadata": {
    "execution": {
     "iopub.execute_input": "2023-12-19T11:46:57.511642Z",
     "iopub.status.busy": "2023-12-19T11:46:57.511259Z",
     "iopub.status.idle": "2023-12-19T11:46:57.517732Z",
     "shell.execute_reply": "2023-12-19T11:46:57.516586Z"
    },
    "papermill": {
     "duration": 0.018558,
     "end_time": "2023-12-19T11:46:57.520090",
     "exception": false,
     "start_time": "2023-12-19T11:46:57.501532",
     "status": "completed"
    },
    "tags": []
   },
   "outputs": [
    {
     "data": {
      "text/plain": [
       "9230496"
      ]
     },
     "execution_count": 11,
     "metadata": {},
     "output_type": "execute_result"
    }
   ],
   "source": [
    "df1.size"
   ]
  },
  {
   "cell_type": "code",
   "execution_count": 12,
   "id": "7160ad65",
   "metadata": {
    "execution": {
     "iopub.execute_input": "2023-12-19T11:46:57.540289Z",
     "iopub.status.busy": "2023-12-19T11:46:57.539674Z",
     "iopub.status.idle": "2023-12-19T11:46:57.546838Z",
     "shell.execute_reply": "2023-12-19T11:46:57.545793Z"
    },
    "papermill": {
     "duration": 0.020341,
     "end_time": "2023-12-19T11:46:57.549401",
     "exception": false,
     "start_time": "2023-12-19T11:46:57.529060",
     "status": "completed"
    },
    "tags": []
   },
   "outputs": [
    {
     "data": {
      "text/plain": [
       "Index(['listing_id', 'name', 'host_id', 'host_since', 'host_location',\n",
       "       'host_response_time', 'host_response_rate', 'host_acceptance_rate',\n",
       "       'host_is_superhost', 'host_total_listings_count',\n",
       "       'host_has_profile_pic', 'host_identity_verified', 'neighbourhood',\n",
       "       'district', 'city', 'latitude', 'longitude', 'property_type',\n",
       "       'room_type', 'accommodates', 'bedrooms', 'amenities', 'price',\n",
       "       'minimum_nights', 'maximum_nights', 'review_scores_rating',\n",
       "       'review_scores_accuracy', 'review_scores_cleanliness',\n",
       "       'review_scores_checkin', 'review_scores_communication',\n",
       "       'review_scores_location', 'review_scores_value', 'instant_bookable'],\n",
       "      dtype='object')"
      ]
     },
     "execution_count": 12,
     "metadata": {},
     "output_type": "execute_result"
    }
   ],
   "source": [
    "df1.columns\n"
   ]
  },
  {
   "cell_type": "code",
   "execution_count": 13,
   "id": "fe4daf85",
   "metadata": {
    "execution": {
     "iopub.execute_input": "2023-12-19T11:46:57.569055Z",
     "iopub.status.busy": "2023-12-19T11:46:57.568687Z",
     "iopub.status.idle": "2023-12-19T11:46:57.609173Z",
     "shell.execute_reply": "2023-12-19T11:46:57.608416Z"
    },
    "papermill": {
     "duration": 0.052695,
     "end_time": "2023-12-19T11:46:57.611215",
     "exception": false,
     "start_time": "2023-12-19T11:46:57.558520",
     "status": "completed"
    },
    "tags": []
   },
   "outputs": [
    {
     "data": {
      "text/plain": [
       "city\n",
       "Bangkok           19361\n",
       "Cape Town         19086\n",
       "Hong Kong          7087\n",
       "Istanbul          24519\n",
       "Mexico City       20065\n",
       "New York          37012\n",
       "Paris             64690\n",
       "Rio de Janeiro    26615\n",
       "Rome              27647\n",
       "Sydney            33630\n",
       "Name: instant_bookable, dtype: int64"
      ]
     },
     "execution_count": 13,
     "metadata": {},
     "output_type": "execute_result"
    }
   ],
   "source": [
    "#Grouping instant_bookable with city\n",
    "df1.groupby('city')['instant_bookable'].count()"
   ]
  },
  {
   "cell_type": "markdown",
   "id": "017b27a3",
   "metadata": {
    "papermill": {
     "duration": 0.010192,
     "end_time": "2023-12-19T11:46:57.631698",
     "exception": false,
     "start_time": "2023-12-19T11:46:57.621506",
     "status": "completed"
    },
    "tags": []
   },
   "source": [
    "# ****Can you spot any major differences in the Airbnb market between cities?**"
   ]
  },
  {
   "cell_type": "code",
   "execution_count": 14,
   "id": "5c6efc49",
   "metadata": {
    "execution": {
     "iopub.execute_input": "2023-12-19T11:46:57.653266Z",
     "iopub.status.busy": "2023-12-19T11:46:57.652646Z",
     "iopub.status.idle": "2023-12-19T11:46:57.692504Z",
     "shell.execute_reply": "2023-12-19T11:46:57.690980Z"
    },
    "papermill": {
     "duration": 0.054369,
     "end_time": "2023-12-19T11:46:57.695157",
     "exception": false,
     "start_time": "2023-12-19T11:46:57.640788",
     "status": "completed"
    },
    "tags": []
   },
   "outputs": [
    {
     "name": "stdout",
     "output_type": "stream",
     "text": [
      "city\n",
      "Paris             64690\n",
      "New York          37012\n",
      "Sydney            33630\n",
      "Rome              27647\n",
      "Rio de Janeiro    26615\n",
      "Istanbul          24519\n",
      "Mexico City       20065\n",
      "Bangkok           19361\n",
      "Cape Town         19086\n",
      "Hong Kong          7087\n",
      "Name: instant_bookable, dtype: int64\n"
     ]
    }
   ],
   "source": [
    "#Sorting the group in descending order\n",
    "sorted_df1 = df1.groupby('city')['instant_bookable'].count().sort_values(ascending = False)\n",
    "print(sorted_df1)"
   ]
  },
  {
   "cell_type": "code",
   "execution_count": 15,
   "id": "a99139f7",
   "metadata": {
    "execution": {
     "iopub.execute_input": "2023-12-19T11:46:57.719569Z",
     "iopub.status.busy": "2023-12-19T11:46:57.717818Z",
     "iopub.status.idle": "2023-12-19T11:46:58.218558Z",
     "shell.execute_reply": "2023-12-19T11:46:58.217552Z"
    },
    "papermill": {
     "duration": 0.515896,
     "end_time": "2023-12-19T11:46:58.221037",
     "exception": false,
     "start_time": "2023-12-19T11:46:57.705141",
     "status": "completed"
    },
    "tags": []
   },
   "outputs": [
    {
     "data": {
      "text/plain": [
       "Text(0.5, 1.0, 'Instant_Bookable')"
      ]
     },
     "execution_count": 15,
     "metadata": {},
     "output_type": "execute_result"
    },
    {
     "data": {
      "image/png": "[encoded data removed]",
      "text/plain": [
       "<Figure size 1500x800 with 1 Axes>"
      ]
     },
     "metadata": {},
     "output_type": "display_data"
    }
   ],
   "source": [
    "sorted_df1.head(30).to_frame().plot(kind='bar',figsize=(15,8))\n",
    "for i, v in enumerate(sorted_df1):\n",
    "    plt.text(i, v, str(v), ha='center', va='bottom')\n",
    "\n",
    "plt.ylabel('City')\n",
    "plt.title('Instant_Bookable')"
   ]
  },
  {
   "cell_type": "markdown",
   "id": "99c6edb7",
   "metadata": {
    "papermill": {
     "duration": 0.009747,
     "end_time": "2023-12-19T11:46:58.241201",
     "exception": false,
     "start_time": "2023-12-19T11:46:58.231454",
     "status": "completed"
    },
    "tags": []
   },
   "source": [
    "# ****Which attributes have the biggest influence on price?**"
   ]
  },
  {
   "cell_type": "code",
   "execution_count": 16,
   "id": "309b7e10",
   "metadata": {
    "execution": {
     "iopub.execute_input": "2023-12-19T11:46:58.263420Z",
     "iopub.status.busy": "2023-12-19T11:46:58.263037Z",
     "iopub.status.idle": "2023-12-19T11:46:58.293508Z",
     "shell.execute_reply": "2023-12-19T11:46:58.292267Z"
    },
    "papermill": {
     "duration": 0.044837,
     "end_time": "2023-12-19T11:46:58.295861",
     "exception": false,
     "start_time": "2023-12-19T11:46:58.251024",
     "status": "completed"
    },
    "tags": []
   },
   "outputs": [
    {
     "data": {
      "text/plain": [
       "city\n",
       "Paris             51286\n",
       "New York          33404\n",
       "Sydney            31421\n",
       "Rome              26773\n",
       "Rio de Janeiro    24869\n",
       "Istanbul          22485\n",
       "Mexico City       19256\n",
       "Cape Town         17707\n",
       "Bangkok           17219\n",
       "Hong Kong          5857\n",
       "Name: bedrooms, dtype: int64"
      ]
     },
     "execution_count": 16,
     "metadata": {},
     "output_type": "execute_result"
    }
   ],
   "source": [
    "#Grouping bedrooms with city & also sort by ascending\n",
    "x = df1.groupby(\"city\")['bedrooms'].count().sort_values(ascending = False)\n",
    "x"
   ]
  },
  {
   "cell_type": "code",
   "execution_count": 17,
   "id": "089a9b4e",
   "metadata": {
    "execution": {
     "iopub.execute_input": "2023-12-19T11:46:58.319279Z",
     "iopub.status.busy": "2023-12-19T11:46:58.318851Z",
     "iopub.status.idle": "2023-12-19T11:46:58.741329Z",
     "shell.execute_reply": "2023-12-19T11:46:58.740193Z"
    },
    "papermill": {
     "duration": 0.43717,
     "end_time": "2023-12-19T11:46:58.743717",
     "exception": false,
     "start_time": "2023-12-19T11:46:58.306547",
     "status": "completed"
    },
    "tags": []
   },
   "outputs": [
    {
     "data": {
      "text/plain": [
       "Text(0.5, 1.0, 'Bedrooms')"
      ]
     },
     "execution_count": 17,
     "metadata": {},
     "output_type": "execute_result"
    },
    {
     "data": {
      "image/png": "[encoded data removed]",
      "text/plain": [
       "<Figure size 1500x800 with 1 Axes>"
      ]
     },
     "metadata": {},
     "output_type": "display_data"
    }
   ],
   "source": [
    "x.head(30).to_frame().plot(kind='bar',figsize=(15,8))\n",
    "for i, v in enumerate(x):\n",
    "    plt.text(i, v, str(v), ha='center', va='bottom')\n",
    "\n",
    "plt.ylabel('City')\n",
    "plt.title('Bedrooms')"
   ]
  },
  {
   "cell_type": "code",
   "execution_count": 18,
   "id": "050748d5",
   "metadata": {
    "execution": {
     "iopub.execute_input": "2023-12-19T11:46:58.769858Z",
     "iopub.status.busy": "2023-12-19T11:46:58.768970Z",
     "iopub.status.idle": "2023-12-19T11:46:58.805092Z",
     "shell.execute_reply": "2023-12-19T11:46:58.804263Z"
    },
    "papermill": {
     "duration": 0.0518,
     "end_time": "2023-12-19T11:46:58.807490",
     "exception": false,
     "start_time": "2023-12-19T11:46:58.755690",
     "status": "completed"
    },
    "tags": []
   },
   "outputs": [
    {
     "data": {
      "text/plain": [
       "city\n",
       "Mexico City       94.84\n",
       "Rio de Janeiro    94.57\n",
       "Cape Town         94.40\n",
       "New York          93.77\n",
       "Rome              93.52\n",
       "Sydney            93.23\n",
       "Paris             93.06\n",
       "Bangkok           93.00\n",
       "Istanbul          91.06\n",
       "Hong Kong         89.71\n",
       "Name: review_scores_rating, dtype: float64"
      ]
     },
     "execution_count": 18,
     "metadata": {},
     "output_type": "execute_result"
    }
   ],
   "source": [
    "#Grouping review_scores_rating with city\n",
    "y = df1.groupby(\"city\")['review_scores_rating'].mean().sort_values(ascending = False).round(2)\n",
    "y"
   ]
  },
  {
   "cell_type": "code",
   "execution_count": 19,
   "id": "a530fc04",
   "metadata": {
    "execution": {
     "iopub.execute_input": "2023-12-19T11:46:58.832865Z",
     "iopub.status.busy": "2023-12-19T11:46:58.832242Z",
     "iopub.status.idle": "2023-12-19T11:46:59.249672Z",
     "shell.execute_reply": "2023-12-19T11:46:59.248515Z"
    },
    "papermill": {
     "duration": 0.43376,
     "end_time": "2023-12-19T11:46:59.252893",
     "exception": false,
     "start_time": "2023-12-19T11:46:58.819133",
     "status": "completed"
    },
    "tags": []
   },
   "outputs": [
    {
     "data": {
      "text/plain": [
       "Text(0.5, 1.0, 'average_review_scores_rating')"
      ]
     },
     "execution_count": 19,
     "metadata": {},
     "output_type": "execute_result"
    },
    {
     "data": {
      "image/png": "[encoded data removed]",
      "text/plain": [
       "<Figure size 1500x800 with 1 Axes>"
      ]
     },
     "metadata": {},
     "output_type": "display_data"
    }
   ],
   "source": [
    "y.head(30).to_frame().plot(kind='bar',figsize=(15,8))\n",
    "for i, v in enumerate(y):\n",
    "    plt.text(i, v, str(v), ha='center', va='bottom')\n",
    "\n",
    "plt.ylabel('City')\n",
    "plt.title('average_review_scores_rating')"
   ]
  },
  {
   "cell_type": "code",
   "execution_count": 20,
   "id": "f23b9ab4",
   "metadata": {
    "execution": {
     "iopub.execute_input": "2023-12-19T11:46:59.291900Z",
     "iopub.status.busy": "2023-12-19T11:46:59.291526Z",
     "iopub.status.idle": "2023-12-19T11:46:59.327929Z",
     "shell.execute_reply": "2023-12-19T11:46:59.326911Z"
    },
    "papermill": {
     "duration": 0.057844,
     "end_time": "2023-12-19T11:46:59.330108",
     "exception": false,
     "start_time": "2023-12-19T11:46:59.272264",
     "status": "completed"
    },
    "tags": []
   },
   "outputs": [
    {
     "data": {
      "text/plain": [
       "city\n",
       "Mexico City       9.56\n",
       "Cape Town         9.53\n",
       "Rome              9.50\n",
       "Bangkok           9.41\n",
       "Rio de Janeiro    9.39\n",
       "New York          9.27\n",
       "Sydney            9.21\n",
       "Paris             9.21\n",
       "Istanbul          9.05\n",
       "Hong Kong         8.99\n",
       "Name: review_scores_cleanliness, dtype: float64"
      ]
     },
     "execution_count": 20,
     "metadata": {},
     "output_type": "execute_result"
    }
   ],
   "source": [
    "#Grouping review_scores_cleanliness with city\n",
    "z= df1.groupby(\"city\")['review_scores_cleanliness'].mean().sort_values(ascending = False).round(2)\n",
    "z"
   ]
  },
  {
   "cell_type": "code",
   "execution_count": 21,
   "id": "c4c75cbb",
   "metadata": {
    "execution": {
     "iopub.execute_input": "2023-12-19T11:46:59.360886Z",
     "iopub.status.busy": "2023-12-19T11:46:59.360059Z",
     "iopub.status.idle": "2023-12-19T11:46:59.808283Z",
     "shell.execute_reply": "2023-12-19T11:46:59.807218Z"
    },
    "papermill": {
     "duration": 0.46693,
     "end_time": "2023-12-19T11:46:59.810571",
     "exception": false,
     "start_time": "2023-12-19T11:46:59.343641",
     "status": "completed"
    },
    "tags": []
   },
   "outputs": [
    {
     "data": {
      "text/plain": [
       "Text(0.5, 1.0, 'average_review_scores_cleanliness')"
      ]
     },
     "execution_count": 21,
     "metadata": {},
     "output_type": "execute_result"
    },
    {
     "data": {
      "image/png": "[encoded data removed]",
      "text/plain": [
       "<Figure size 1500x800 with 1 Axes>"
      ]
     },
     "metadata": {},
     "output_type": "display_data"
    }
   ],
   "source": [
    "z.head(30).to_frame().plot(kind='bar',figsize=(15,8))\n",
    "for i, v in enumerate(z):\n",
    "    plt.text(i, v, str(v), ha='center', va='bottom')\n",
    "\n",
    "plt.ylabel('City')\n",
    "plt.title('average_review_scores_cleanliness')"
   ]
  },
  {
   "cell_type": "code",
   "execution_count": 22,
   "id": "ef18926a",
   "metadata": {
    "execution": {
     "iopub.execute_input": "2023-12-19T11:46:59.839081Z",
     "iopub.status.busy": "2023-12-19T11:46:59.838712Z",
     "iopub.status.idle": "2023-12-19T11:46:59.872227Z",
     "shell.execute_reply": "2023-12-19T11:46:59.871244Z"
    },
    "papermill": {
     "duration": 0.051235,
     "end_time": "2023-12-19T11:46:59.875152",
     "exception": false,
     "start_time": "2023-12-19T11:46:59.823917",
     "status": "completed"
    },
    "tags": []
   },
   "outputs": [
    {
     "data": {
      "text/plain": [
       "city\n",
       "Cape Town         2405.12\n",
       "Bangkok           2078.28\n",
       "Mexico City       1149.25\n",
       "Hong Kong          746.17\n",
       "Rio de Janeiro     742.59\n",
       "Istanbul           532.56\n",
       "Sydney             222.01\n",
       "New York           142.84\n",
       "Paris              113.10\n",
       "Rome               105.11\n",
       "Name: price, dtype: float64"
      ]
     },
     "execution_count": 22,
     "metadata": {},
     "output_type": "execute_result"
    }
   ],
   "source": [
    "#Grouping price with city\n",
    "a= df1.groupby(\"city\")['price'].mean().sort_values(ascending = False).round(2)\n",
    "a"
   ]
  },
  {
   "cell_type": "code",
   "execution_count": 23,
   "id": "c54ac74b",
   "metadata": {
    "execution": {
     "iopub.execute_input": "2023-12-19T11:46:59.908178Z",
     "iopub.status.busy": "2023-12-19T11:46:59.907790Z",
     "iopub.status.idle": "2023-12-19T11:47:00.328363Z",
     "shell.execute_reply": "2023-12-19T11:47:00.326802Z"
    },
    "papermill": {
     "duration": 0.438381,
     "end_time": "2023-12-19T11:47:00.331515",
     "exception": false,
     "start_time": "2023-12-19T11:46:59.893134",
     "status": "completed"
    },
    "tags": []
   },
   "outputs": [
    {
     "data": {
      "text/plain": [
       "Text(0.5, 1.0, 'average_price')"
      ]
     },
     "execution_count": 23,
     "metadata": {},
     "output_type": "execute_result"
    },
    {
     "data": {
      "image/png": "[encoded data removed]",
      "text/plain": [
       "<Figure size 1500x800 with 1 Axes>"
      ]
     },
     "metadata": {},
     "output_type": "display_data"
    }
   ],
   "source": [
    "a.head(30).to_frame().plot(kind='bar',figsize=(15,8))\n",
    "for i, v in enumerate(a):\n",
    "    plt.text(i, v, str(v), ha='center', va='bottom')\n",
    "\n",
    "plt.ylabel('City')\n",
    "plt.title('average_price')"
   ]
  },
  {
   "cell_type": "code",
   "execution_count": 24,
   "id": "000c7e36",
   "metadata": {
    "execution": {
     "iopub.execute_input": "2023-12-19T11:47:00.361025Z",
     "iopub.status.busy": "2023-12-19T11:47:00.360603Z",
     "iopub.status.idle": "2023-12-19T11:47:00.370560Z",
     "shell.execute_reply": "2023-12-19T11:47:00.369340Z"
    },
    "papermill": {
     "duration": 0.029642,
     "end_time": "2023-12-19T11:47:00.375064",
     "exception": false,
     "start_time": "2023-12-19T11:47:00.345422",
     "status": "completed"
    },
    "tags": []
   },
   "outputs": [
    {
     "name": "stdout",
     "output_type": "stream",
     "text": [
      "city\n",
      "Paris             64690\n",
      "New York          37012\n",
      "Sydney            33630\n",
      "Rome              27647\n",
      "Rio de Janeiro    26615\n",
      "Istanbul          24519\n",
      "Mexico City       20065\n",
      "Bangkok           19361\n",
      "Cape Town         19086\n",
      "Hong Kong          7087\n",
      "Name: instant_bookable, dtype: int64\n",
      "city\n",
      "Paris             51286\n",
      "New York          33404\n",
      "Sydney            31421\n",
      "Rome              26773\n",
      "Rio de Janeiro    24869\n",
      "Istanbul          22485\n",
      "Mexico City       19256\n",
      "Cape Town         17707\n",
      "Bangkok           17219\n",
      "Hong Kong          5857\n",
      "Name: bedrooms, dtype: int64\n",
      "city\n",
      "Mexico City       94.84\n",
      "Rio de Janeiro    94.57\n",
      "Cape Town         94.40\n",
      "New York          93.77\n",
      "Rome              93.52\n",
      "Sydney            93.23\n",
      "Paris             93.06\n",
      "Bangkok           93.00\n",
      "Istanbul          91.06\n",
      "Hong Kong         89.71\n",
      "Name: review_scores_rating, dtype: float64\n",
      "city\n",
      "Mexico City       9.56\n",
      "Cape Town         9.53\n",
      "Rome              9.50\n",
      "Bangkok           9.41\n",
      "Rio de Janeiro    9.39\n",
      "New York          9.27\n",
      "Sydney            9.21\n",
      "Paris             9.21\n",
      "Istanbul          9.05\n",
      "Hong Kong         8.99\n",
      "Name: review_scores_cleanliness, dtype: float64\n",
      "city\n",
      "Cape Town         2405.12\n",
      "Bangkok           2078.28\n",
      "Mexico City       1149.25\n",
      "Hong Kong          746.17\n",
      "Rio de Janeiro     742.59\n",
      "Istanbul           532.56\n",
      "Sydney             222.01\n",
      "New York           142.84\n",
      "Paris              113.10\n",
      "Rome               105.11\n",
      "Name: price, dtype: float64\n"
     ]
    }
   ],
   "source": [
    "print(sorted_df1) \n",
    "print(x)\n",
    "print(y)\n",
    "print(z)\n",
    "print(a)"
   ]
  },
  {
   "cell_type": "markdown",
   "id": "faf4e539",
   "metadata": {
    "papermill": {
     "duration": 0.074817,
     "end_time": "2023-12-19T11:47:00.464285",
     "exception": false,
     "start_time": "2023-12-19T11:47:00.389468",
     "status": "completed"
    },
    "tags": []
   },
   "source": [
    "from above finding,number of bedrooms,review score rating,review score of cleanliness & instant booking these parameters show the performnce of cities.In overall all the PARIS perform well which is include in all parameters securing  top 10 list place.\n",
    "1. Paris-average price 113.10\n",
    "*      -no. of bedrooms 51286\n",
    "*      -review score rating 93.06\n",
    "*      -review score cleanliness 9.21\n",
    "*      -instant booking 64690\n",
    "2. lowest average price ROME 105.11\n",
    "3. highest review score rating MEXICO CITY 94.84\n",
    "4. highest review score cleanliness MEXICO CITY 9.56\n",
    "5. highest instant booking  64690\n",
    "6. highest no.bedrooms 64690"
   ]
  },
  {
   "cell_type": "code",
   "execution_count": null,
   "id": "a33b4995",
   "metadata": {
    "papermill": {
     "duration": 0.014038,
     "end_time": "2023-12-19T11:47:00.492619",
     "exception": false,
     "start_time": "2023-12-19T11:47:00.478581",
     "status": "completed"
    },
    "tags": []
   },
   "outputs": [],
   "source": []
  }
 ],
 "metadata": {
  "kaggle": {
   "accelerator": "none",
   "dataSources": [
    {
     "datasetId": 1530930,
     "sourceId": 2526818,
     "sourceType": "datasetVersion"
    }
   ],
   "dockerImageVersionId": 30626,
   "isGpuEnabled": false,
   "isInternetEnabled": false,
   "language": "python",
   "sourceType": "notebook"
  },
  "kernelspec": {
   "display_name": "Python 3",
   "language": "python",
   "name": "python3"
  },
  "language_info": {
   "codemirror_mode": {
    "name": "ipython",
    "version": 3
   },
   "file_extension": ".py",
   "mimetype": "text/x-python",
   "name": "python",
   "nbconvert_exporter": "python",
   "pygments_lexer": "ipython3",
   "version": "3.10.12"
  },
  "papermill": {
   "default_parameters": {},
   "duration": 13.536298,
   "end_time": "2023-12-19T11:47:01.027075",
   "environment_variables": {},
   "exception": null,
   "input_path": "__notebook__.ipynb",
   "output_path": "__notebook__.ipynb",
   "parameters": {},
   "start_time": "2023-12-19T11:46:47.490777",
   "version": "2.4.0"
  }
 },
 "nbformat": 4,
 "nbformat_minor": 5
}
